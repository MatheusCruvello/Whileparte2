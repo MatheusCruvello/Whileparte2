{
  "nbformat": 4,
  "nbformat_minor": 0,
  "metadata": {
    "colab": {
      "provenance": []
    },
    "kernelspec": {
      "name": "python3",
      "display_name": "Python 3"
    },
    "language_info": {
      "name": "python"
    }
  },
  "cells": [
    {
      "cell_type": "code",
      "source": [
        "valor= float(input(\"Digite um valor de 0 a 10: \"))\n",
        "while valor < 0 or valor > 10:\n",
        "   print(\"Valor invalido\")\n",
        "   valor= float(input(\"Digite um valor entre 0 e 10: \"))\n",
        "\n",
        "print(\"Seu valor é valido\")"
      ],
      "metadata": {
        "id": "YLgV03b87ObI"
      },
      "execution_count": null,
      "outputs": []
    },
    {
      "cell_type": "code",
      "source": [
        "n1= float(input(\"Digite uma nota: \"))\n",
        "n2= float(input(\"Digite outa nota: \"))\n",
        "while n1 + n2 >= 10:\n",
        "  n1= float(input(\"Digite uma nota: \"))\n",
        "  n2= float(input(\"Digite outa nota: \"))\n",
        "\n",
        "  resultado= (n1 + n1)/2\n",
        "\n",
        "print(f\"{n1} + {n2} /2 = {resultado}\")"
      ],
      "metadata": {
        "id": "yniN4qPf6-ys"
      },
      "execution_count": null,
      "outputs": []
    },
    {
      "cell_type": "code",
      "source": [
        "usuario= input(\"Digite seu usuário: \")\n",
        "senha= input(\"Digite sua senha: \")\n",
        "while senha == usuario:\n",
        "  print(\"Ops algo deu errado!!! Tente novamete o login\")\n",
        "  usuario= input(\"Digite seu usuário: \")\n",
        "  senha= input(\"Digite sua senha: \")\n",
        "\n",
        "print(\"Bem-Vindo(a)\")"
      ],
      "metadata": {
        "id": "x5HydMox63ZU"
      },
      "execution_count": null,
      "outputs": []
    },
    {
      "cell_type": "code",
      "source": [
        "salario = 1000\n",
        "aumento = 1.5 / 100\n",
        "ano_atual = 2024\n",
        "ano_inicial = 1996\n",
        "\n",
        "salario= float(input(\"Digite seu salário: \"))\n",
        "while ano_atual != ano_inicial:\n",
        "      ano_inicial += 1\n",
        "      salario += salario * aumento\n",
        "      aumento *= 2\n",
        "      print(f\"ano:{ano_inicial} salario {salario:.2f}\")\n",
        "\n",
        "salario= float(input(\"Digite seu salário: \"))"
      ],
      "metadata": {
        "id": "yQsqnrdC6yra"
      },
      "execution_count": null,
      "outputs": []
    },
    {
      "cell_type": "code",
      "execution_count": null,
      "metadata": {
        "id": "KtWjPncc3I-A"
      },
      "outputs": [],
      "source": [
        "nome= input(\"Digite seu nome:\")\n",
        "while len(nome) <= 3:\n",
        "  print(\"O nome deve conter mas de 3 caracteres\")\n",
        "  nome= input(\"Digite o nome novamente: \")\n",
        "\n",
        "idade= int(input(\"Digite sua idade: \"))\n",
        "while idade < 0 or idade > 150:\n",
        "  print(\"Sua idade deve ser entre 0 a 150 anos\")\n",
        "  idade= int(input(\"Digite novamente sua idade: \"))\n",
        "\n",
        "salario= float(input(\"Digite seu salário: \"))\n",
        "while salario <= 0:\n",
        "  print(\"O seu salário deve ser maior que 0\")\n",
        "  salario= float(input(\"Digite novamente seu salário: \"))\n",
        "\n",
        "sexo= input(\"Qual seu sexo masculino ou feminino: \")\n",
        "while sexo not in [\"m\" , \"f\"]:\n",
        "  print(\"Sexo invalido\")\n",
        "  sexo= input(\"Digite novamente seu sexo masculino ou feminino: \")\n",
        "\n",
        "ec= input(\"Digite seu Estado Civil: \")\n",
        "while ec not in [\"s\" , \"c\" , \"v\" , \"d\"]:\n",
        "  print(\"O Estado Civil não corresponde: \")\n",
        "  ec= input(\"Digite novamente seu Estado Civil: \")"
      ]
    },
    {
      "cell_type": "code",
      "source": [
        "#populacao a de 80000 com uma taxa anual de crescimento de 3%\n",
        "#populacao b de 200000 com uma taxa anual de crescimento de 1.5%\n",
        "\n",
        "pa = 80000\n",
        "pb = 200000\n",
        "p1 = 3/100\n",
        "p2 = 1.5 /100\n",
        "\n",
        "while\n",
        "\n",
        "\n",
        "print(f\"\")\n",
        "\n"
      ],
      "metadata": {
        "id": "uTItZqeR71DL"
      },
      "execution_count": null,
      "outputs": []
    }
  ]
}